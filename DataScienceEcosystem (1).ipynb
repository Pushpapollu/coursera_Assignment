{
  "metadata": {
    "kernelspec": {
      "name": "python",
      "display_name": "Python (Pyodide)",
      "language": "python"
    },
    "language_info": {
      "codemirror_mode": {
        "name": "python",
        "version": 3
      },
      "file_extension": ".py",
      "mimetype": "text/x-python",
      "name": "python",
      "nbconvert_exporter": "python",
      "pygments_lexer": "ipython3",
      "version": "3.8"
    }
  },
  "nbformat_minor": 4,
  "nbformat": 4,
  "cells": [
    {
      "cell_type": "markdown",
      "source": "# Data Science Tools and Ecosystem",
      "metadata": {}
    },
    {
      "cell_type": "markdown",
      "source": "A data science ecosystem is a complex network of data sources, users, processes, and analytic tools that work together to generate, store, manage, and consume data",
      "metadata": {}
    },
    {
      "cell_type": "markdown",
      "source": "some of the top data science programming languages are:\n1. Python\n2. R\n3. Java\n4. Scala\n5. Julia",
      "metadata": {}
    },
    {
      "cell_type": "markdown",
      "source": "Data science Libraries:\n1. Plotly\n2. NumPy\n3. SciPy\n4. Visby\n5. Pandas\n6. Matplotlib\n7. Seaborn\n8. Scikit-learn\n9. Statsmodels\n10. Apache Superset",
      "metadata": {}
    },
    {
      "cell_type": "markdown",
      "source": "|DATA SCIENCE TOOLS|\n|---|\n|SAS|\n|APACHE HADOOP|\n|TENSORFLOW|",
      "metadata": {}
    },
    {
      "cell_type": "markdown",
      "source": "### Below are a few examples of evaluating arithmetic expressions in Python",
      "metadata": {}
    },
    {
      "cell_type": "code",
      "source": "#This a simple arithmetic expression to multiply then add integers\n(3*4)+5",
      "metadata": {
        "trusted": true
      },
      "outputs": [
        {
          "execution_count": 10,
          "output_type": "execute_result",
          "data": {
            "text/plain": "17"
          },
          "metadata": {}
        }
      ],
      "execution_count": 10
    },
    {
      "cell_type": "code",
      "source": "#This will convert 200 minutes to hours by diving by 60\n200/60",
      "metadata": {
        "trusted": true
      },
      "outputs": [
        {
          "execution_count": 15,
          "output_type": "execute_result",
          "data": {
            "text/plain": "3.3333333333333335"
          },
          "metadata": {}
        }
      ],
      "execution_count": 15
    },
    {
      "cell_type": "markdown",
      "source": "__Objectives__\n* Some of the popular languages that Data Scientists use\n* commonly used libraries used by Data Scientists\n* Data Science tools\n* Examples of evaluating arithmetic expressions in Python\n* Insert a comment line",
      "metadata": {}
    },
    {
      "cell_type": "markdown",
      "source": "## Author\nDr. Vijaya Shetty S",
      "metadata": {}
    },
    {
      "cell_type": "code",
      "source": "",
      "metadata": {
        "trusted": true
      },
      "outputs": [],
      "execution_count": null
    }
  ]
}